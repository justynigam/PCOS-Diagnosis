{
 "cells": [
  {
   "cell_type": "code",
   "execution_count": 1,
   "id": "7a02f04c",
   "metadata": {
    "_cell_guid": "b1076dfc-b9ad-4769-8c92-a6c4dae69d19",
    "_uuid": "8f2839f25d086af736a60e9eeb907d3b93b6e0e5",
    "execution": {
     "iopub.execute_input": "2024-09-17T10:21:11.682457Z",
     "iopub.status.busy": "2024-09-17T10:21:11.681998Z",
     "iopub.status.idle": "2024-09-17T10:21:12.165734Z",
     "shell.execute_reply": "2024-09-17T10:21:12.164200Z"
    },
    "papermill": {
     "duration": 0.496483,
     "end_time": "2024-09-17T10:21:12.168393",
     "exception": false,
     "start_time": "2024-09-17T10:21:11.671910",
     "status": "completed"
    },
    "tags": []
   },
   "outputs": [
    {
     "name": "stdout",
     "output_type": "stream",
     "text": [
      "/kaggle/input/pcos-diabetes/pcos-diagnosis.ipynb\n",
      "/kaggle/input/pcos-diabetes/PCOS_infertility (1).csv\n"
     ]
    }
   ],
   "source": [
    "# This Python 3 environment comes with many helpful analytics libraries installed\n",
    "# It is defined by the kaggle/python Docker image: https://github.com/kaggle/docker-python\n",
    "# For example, here's several helpful packages to load\n",
    "\n",
    "import numpy as np # linear algebra\n",
    "import pandas as pd # data processing, CSV file I/O (e.g. pd.read_csv)\n",
    "\n",
    "# Input data files are available in the read-only \"../input/\" directory\n",
    "# For example, running this (by clicking run or pressing Shift+Enter) will list all files under the input directory\n",
    "\n",
    "import os\n",
    "for dirname, _, filenames in os.walk('/kaggle/input'):\n",
    "    for filename in filenames:\n",
    "        print(os.path.join(dirname, filename))\n",
    "\n",
    "# You can write up to 20GB to the current directory (/kaggle/working/) that gets preserved as output when you create a version using \"Save & Run All\" \n",
    "# You can also write temporary files to /kaggle/temp/, but they won't be saved outside of the current session"
   ]
  },
  {
   "cell_type": "code",
   "execution_count": 2,
   "id": "2434ba7d",
   "metadata": {
    "execution": {
     "iopub.execute_input": "2024-09-17T10:21:12.185178Z",
     "iopub.status.busy": "2024-09-17T10:21:12.184538Z",
     "iopub.status.idle": "2024-09-17T10:21:29.222120Z",
     "shell.execute_reply": "2024-09-17T10:21:29.220955Z"
    },
    "papermill": {
     "duration": 17.049353,
     "end_time": "2024-09-17T10:21:29.225205",
     "exception": false,
     "start_time": "2024-09-17T10:21:12.175852",
     "status": "completed"
    },
    "tags": []
   },
   "outputs": [],
   "source": [
    "import numpy as np\n",
    "import pandas as pd\n",
    "from scipy import stats\n",
    "import seaborn as sns\n",
    "import matplotlib.pyplot as plt\n",
    "\n",
    "from sklearn.model_selection import train_test_split\n",
    "import tensorflow as tf\n",
    "from tensorflow.keras import Sequential\n",
    "from tensorflow.keras.layers import Dense,Dropout\n"
   ]
  },
  {
   "cell_type": "code",
   "execution_count": 3,
   "id": "6ff302e6",
   "metadata": {
    "execution": {
     "iopub.execute_input": "2024-09-17T10:21:29.242196Z",
     "iopub.status.busy": "2024-09-17T10:21:29.241373Z",
     "iopub.status.idle": "2024-09-17T10:21:29.261587Z",
     "shell.execute_reply": "2024-09-17T10:21:29.260388Z"
    },
    "papermill": {
     "duration": 0.03217,
     "end_time": "2024-09-17T10:21:29.264746",
     "exception": false,
     "start_time": "2024-09-17T10:21:29.232576",
     "status": "completed"
    },
    "tags": []
   },
   "outputs": [],
   "source": [
    "data = pd.read_csv('/kaggle/input/pcos-diabetes/PCOS_infertility (1).csv')"
   ]
  },
  {
   "cell_type": "code",
   "execution_count": 4,
   "id": "eb53072b",
   "metadata": {
    "execution": {
     "iopub.execute_input": "2024-09-17T10:21:29.281466Z",
     "iopub.status.busy": "2024-09-17T10:21:29.281024Z",
     "iopub.status.idle": "2024-09-17T10:21:29.312884Z",
     "shell.execute_reply": "2024-09-17T10:21:29.311716Z"
    },
    "papermill": {
     "duration": 0.043446,
     "end_time": "2024-09-17T10:21:29.315817",
     "exception": false,
     "start_time": "2024-09-17T10:21:29.272371",
     "status": "completed"
    },
    "tags": []
   },
   "outputs": [
    {
     "name": "stdout",
     "output_type": "stream",
     "text": [
      "<class 'pandas.core.frame.DataFrame'>\n",
      "RangeIndex: 541 entries, 0 to 540\n",
      "Data columns (total 6 columns):\n",
      " #   Column                  Non-Null Count  Dtype  \n",
      "---  ------                  --------------  -----  \n",
      " 0   Sl. No                  541 non-null    int64  \n",
      " 1   Patient File No.        541 non-null    int64  \n",
      " 2   PCOS (Y/N)              541 non-null    int64  \n",
      " 3     I   beta-HCG(mIU/mL)  541 non-null    float64\n",
      " 4   II    beta-HCG(mIU/mL)  541 non-null    float64\n",
      " 5   AMH(ng/mL)              541 non-null    object \n",
      "dtypes: float64(2), int64(3), object(1)\n",
      "memory usage: 25.5+ KB\n"
     ]
    }
   ],
   "source": [
    "data.info()"
   ]
  },
  {
   "cell_type": "code",
   "execution_count": 5,
   "id": "46b4eb2a",
   "metadata": {
    "execution": {
     "iopub.execute_input": "2024-09-17T10:21:29.332409Z",
     "iopub.status.busy": "2024-09-17T10:21:29.331911Z",
     "iopub.status.idle": "2024-09-17T10:21:29.340546Z",
     "shell.execute_reply": "2024-09-17T10:21:29.339452Z"
    },
    "papermill": {
     "duration": 0.019958,
     "end_time": "2024-09-17T10:21:29.343186",
     "exception": false,
     "start_time": "2024-09-17T10:21:29.323228",
     "status": "completed"
    },
    "tags": []
   },
   "outputs": [
    {
     "data": {
      "text/plain": [
       "(541, 6)"
      ]
     },
     "execution_count": 5,
     "metadata": {},
     "output_type": "execute_result"
    }
   ],
   "source": [
    "data.shape"
   ]
  },
  {
   "cell_type": "code",
   "execution_count": 6,
   "id": "61eb7c39",
   "metadata": {
    "execution": {
     "iopub.execute_input": "2024-09-17T10:21:29.360561Z",
     "iopub.status.busy": "2024-09-17T10:21:29.360154Z",
     "iopub.status.idle": "2024-09-17T10:21:29.379539Z",
     "shell.execute_reply": "2024-09-17T10:21:29.378400Z"
    },
    "papermill": {
     "duration": 0.031175,
     "end_time": "2024-09-17T10:21:29.382186",
     "exception": false,
     "start_time": "2024-09-17T10:21:29.351011",
     "status": "completed"
    },
    "tags": []
   },
   "outputs": [
    {
     "data": {
      "text/html": [
       "<div>\n",
       "<style scoped>\n",
       "    .dataframe tbody tr th:only-of-type {\n",
       "        vertical-align: middle;\n",
       "    }\n",
       "\n",
       "    .dataframe tbody tr th {\n",
       "        vertical-align: top;\n",
       "    }\n",
       "\n",
       "    .dataframe thead th {\n",
       "        text-align: right;\n",
       "    }\n",
       "</style>\n",
       "<table border=\"1\" class=\"dataframe\">\n",
       "  <thead>\n",
       "    <tr style=\"text-align: right;\">\n",
       "      <th></th>\n",
       "      <th>Sl. No</th>\n",
       "      <th>Patient File No.</th>\n",
       "      <th>PCOS (Y/N)</th>\n",
       "      <th>I   beta-HCG(mIU/mL)</th>\n",
       "      <th>II    beta-HCG(mIU/mL)</th>\n",
       "      <th>AMH(ng/mL)</th>\n",
       "    </tr>\n",
       "  </thead>\n",
       "  <tbody>\n",
       "    <tr>\n",
       "      <th>0</th>\n",
       "      <td>1</td>\n",
       "      <td>10001</td>\n",
       "      <td>0</td>\n",
       "      <td>1.99</td>\n",
       "      <td>1.99</td>\n",
       "      <td>2.07</td>\n",
       "    </tr>\n",
       "    <tr>\n",
       "      <th>1</th>\n",
       "      <td>2</td>\n",
       "      <td>10002</td>\n",
       "      <td>0</td>\n",
       "      <td>60.80</td>\n",
       "      <td>1.99</td>\n",
       "      <td>1.53</td>\n",
       "    </tr>\n",
       "    <tr>\n",
       "      <th>2</th>\n",
       "      <td>3</td>\n",
       "      <td>10003</td>\n",
       "      <td>1</td>\n",
       "      <td>494.08</td>\n",
       "      <td>494.08</td>\n",
       "      <td>6.63</td>\n",
       "    </tr>\n",
       "    <tr>\n",
       "      <th>3</th>\n",
       "      <td>4</td>\n",
       "      <td>10004</td>\n",
       "      <td>0</td>\n",
       "      <td>1.99</td>\n",
       "      <td>1.99</td>\n",
       "      <td>1.22</td>\n",
       "    </tr>\n",
       "    <tr>\n",
       "      <th>4</th>\n",
       "      <td>5</td>\n",
       "      <td>10005</td>\n",
       "      <td>0</td>\n",
       "      <td>801.45</td>\n",
       "      <td>801.45</td>\n",
       "      <td>2.26</td>\n",
       "    </tr>\n",
       "  </tbody>\n",
       "</table>\n",
       "</div>"
      ],
      "text/plain": [
       "   Sl. No  Patient File No.  PCOS (Y/N)    I   beta-HCG(mIU/mL)  \\\n",
       "0       1             10001           0                    1.99   \n",
       "1       2             10002           0                   60.80   \n",
       "2       3             10003           1                  494.08   \n",
       "3       4             10004           0                    1.99   \n",
       "4       5             10005           0                  801.45   \n",
       "\n",
       "   II    beta-HCG(mIU/mL) AMH(ng/mL)  \n",
       "0                    1.99       2.07  \n",
       "1                    1.99       1.53  \n",
       "2                  494.08       6.63  \n",
       "3                    1.99       1.22  \n",
       "4                  801.45       2.26  "
      ]
     },
     "execution_count": 6,
     "metadata": {},
     "output_type": "execute_result"
    }
   ],
   "source": [
    "data.head()"
   ]
  },
  {
   "cell_type": "code",
   "execution_count": 7,
   "id": "aa1243e7",
   "metadata": {
    "execution": {
     "iopub.execute_input": "2024-09-17T10:21:29.399641Z",
     "iopub.status.busy": "2024-09-17T10:21:29.399185Z",
     "iopub.status.idle": "2024-09-17T10:21:29.408276Z",
     "shell.execute_reply": "2024-09-17T10:21:29.407156Z"
    },
    "papermill": {
     "duration": 0.020828,
     "end_time": "2024-09-17T10:21:29.410791",
     "exception": false,
     "start_time": "2024-09-17T10:21:29.389963",
     "status": "completed"
    },
    "tags": []
   },
   "outputs": [
    {
     "data": {
      "text/plain": [
       "Sl. No                      int64\n",
       "Patient File No.            int64\n",
       "PCOS (Y/N)                  int64\n",
       "  I   beta-HCG(mIU/mL)    float64\n",
       "II    beta-HCG(mIU/mL)    float64\n",
       "AMH(ng/mL)                 object\n",
       "dtype: object"
      ]
     },
     "execution_count": 7,
     "metadata": {},
     "output_type": "execute_result"
    }
   ],
   "source": [
    "data.dtypes"
   ]
  },
  {
   "cell_type": "code",
   "execution_count": 8,
   "id": "4824153e",
   "metadata": {
    "execution": {
     "iopub.execute_input": "2024-09-17T10:21:29.428976Z",
     "iopub.status.busy": "2024-09-17T10:21:29.428527Z",
     "iopub.status.idle": "2024-09-17T10:21:29.439056Z",
     "shell.execute_reply": "2024-09-17T10:21:29.437901Z"
    },
    "papermill": {
     "duration": 0.022886,
     "end_time": "2024-09-17T10:21:29.441683",
     "exception": false,
     "start_time": "2024-09-17T10:21:29.418797",
     "status": "completed"
    },
    "tags": []
   },
   "outputs": [
    {
     "data": {
      "text/plain": [
       "Sl. No                    0\n",
       "Patient File No.          0\n",
       "PCOS (Y/N)                0\n",
       "  I   beta-HCG(mIU/mL)    0\n",
       "II    beta-HCG(mIU/mL)    0\n",
       "AMH(ng/mL)                0\n",
       "dtype: int64"
      ]
     },
     "execution_count": 8,
     "metadata": {},
     "output_type": "execute_result"
    }
   ],
   "source": [
    "data.isnull().sum()"
   ]
  },
  {
   "cell_type": "code",
   "execution_count": 9,
   "id": "98ae1858",
   "metadata": {
    "execution": {
     "iopub.execute_input": "2024-09-17T10:21:29.459949Z",
     "iopub.status.busy": "2024-09-17T10:21:29.459497Z",
     "iopub.status.idle": "2024-09-17T10:21:29.468107Z",
     "shell.execute_reply": "2024-09-17T10:21:29.467015Z"
    },
    "papermill": {
     "duration": 0.020575,
     "end_time": "2024-09-17T10:21:29.470633",
     "exception": false,
     "start_time": "2024-09-17T10:21:29.450058",
     "status": "completed"
    },
    "tags": []
   },
   "outputs": [
    {
     "data": {
      "text/plain": [
       "0    2.07\n",
       "1    1.53\n",
       "2    6.63\n",
       "3    1.22\n",
       "4    2.26\n",
       "Name: AMH(ng/mL), dtype: object"
      ]
     },
     "execution_count": 9,
     "metadata": {},
     "output_type": "execute_result"
    }
   ],
   "source": [
    "data[\"AMH(ng/mL)\"].head()\n"
   ]
  },
  {
   "cell_type": "code",
   "execution_count": 10,
   "id": "628b647e",
   "metadata": {
    "execution": {
     "iopub.execute_input": "2024-09-17T10:21:29.489173Z",
     "iopub.status.busy": "2024-09-17T10:21:29.488679Z",
     "iopub.status.idle": "2024-09-17T10:21:29.520190Z",
     "shell.execute_reply": "2024-09-17T10:21:29.518877Z"
    },
    "papermill": {
     "duration": 0.043801,
     "end_time": "2024-09-17T10:21:29.522763",
     "exception": false,
     "start_time": "2024-09-17T10:21:29.478962",
     "status": "completed"
    },
    "tags": []
   },
   "outputs": [
    {
     "data": {
      "text/html": [
       "<div>\n",
       "<style scoped>\n",
       "    .dataframe tbody tr th:only-of-type {\n",
       "        vertical-align: middle;\n",
       "    }\n",
       "\n",
       "    .dataframe tbody tr th {\n",
       "        vertical-align: top;\n",
       "    }\n",
       "\n",
       "    .dataframe thead th {\n",
       "        text-align: right;\n",
       "    }\n",
       "</style>\n",
       "<table border=\"1\" class=\"dataframe\">\n",
       "  <thead>\n",
       "    <tr style=\"text-align: right;\">\n",
       "      <th></th>\n",
       "      <th>Sl. No</th>\n",
       "      <th>Patient File No.</th>\n",
       "      <th>PCOS (Y/N)</th>\n",
       "      <th>I   beta-HCG(mIU/mL)</th>\n",
       "      <th>II    beta-HCG(mIU/mL)</th>\n",
       "    </tr>\n",
       "  </thead>\n",
       "  <tbody>\n",
       "    <tr>\n",
       "      <th>count</th>\n",
       "      <td>541.000000</td>\n",
       "      <td>541.000000</td>\n",
       "      <td>541.000000</td>\n",
       "      <td>541.000000</td>\n",
       "      <td>541.000000</td>\n",
       "    </tr>\n",
       "    <tr>\n",
       "      <th>mean</th>\n",
       "      <td>271.000000</td>\n",
       "      <td>10271.000000</td>\n",
       "      <td>0.327172</td>\n",
       "      <td>664.549235</td>\n",
       "      <td>238.229518</td>\n",
       "    </tr>\n",
       "    <tr>\n",
       "      <th>std</th>\n",
       "      <td>156.317519</td>\n",
       "      <td>156.317519</td>\n",
       "      <td>0.469615</td>\n",
       "      <td>3348.920576</td>\n",
       "      <td>1603.826221</td>\n",
       "    </tr>\n",
       "    <tr>\n",
       "      <th>min</th>\n",
       "      <td>1.000000</td>\n",
       "      <td>10001.000000</td>\n",
       "      <td>0.000000</td>\n",
       "      <td>1.300000</td>\n",
       "      <td>0.110417</td>\n",
       "    </tr>\n",
       "    <tr>\n",
       "      <th>25%</th>\n",
       "      <td>136.000000</td>\n",
       "      <td>10136.000000</td>\n",
       "      <td>0.000000</td>\n",
       "      <td>1.990000</td>\n",
       "      <td>1.990000</td>\n",
       "    </tr>\n",
       "    <tr>\n",
       "      <th>50%</th>\n",
       "      <td>271.000000</td>\n",
       "      <td>10271.000000</td>\n",
       "      <td>0.000000</td>\n",
       "      <td>20.000000</td>\n",
       "      <td>1.990000</td>\n",
       "    </tr>\n",
       "    <tr>\n",
       "      <th>75%</th>\n",
       "      <td>406.000000</td>\n",
       "      <td>10406.000000</td>\n",
       "      <td>1.000000</td>\n",
       "      <td>297.210000</td>\n",
       "      <td>97.630000</td>\n",
       "    </tr>\n",
       "    <tr>\n",
       "      <th>max</th>\n",
       "      <td>541.000000</td>\n",
       "      <td>10541.000000</td>\n",
       "      <td>1.000000</td>\n",
       "      <td>32460.970000</td>\n",
       "      <td>25000.000000</td>\n",
       "    </tr>\n",
       "  </tbody>\n",
       "</table>\n",
       "</div>"
      ],
      "text/plain": [
       "           Sl. No  Patient File No.  PCOS (Y/N)    I   beta-HCG(mIU/mL)  \\\n",
       "count  541.000000        541.000000  541.000000              541.000000   \n",
       "mean   271.000000      10271.000000    0.327172              664.549235   \n",
       "std    156.317519        156.317519    0.469615             3348.920576   \n",
       "min      1.000000      10001.000000    0.000000                1.300000   \n",
       "25%    136.000000      10136.000000    0.000000                1.990000   \n",
       "50%    271.000000      10271.000000    0.000000               20.000000   \n",
       "75%    406.000000      10406.000000    1.000000              297.210000   \n",
       "max    541.000000      10541.000000    1.000000            32460.970000   \n",
       "\n",
       "       II    beta-HCG(mIU/mL)  \n",
       "count              541.000000  \n",
       "mean               238.229518  \n",
       "std               1603.826221  \n",
       "min                  0.110417  \n",
       "25%                  1.990000  \n",
       "50%                  1.990000  \n",
       "75%                 97.630000  \n",
       "max              25000.000000  "
      ]
     },
     "execution_count": 10,
     "metadata": {},
     "output_type": "execute_result"
    }
   ],
   "source": [
    "data.describe()"
   ]
  },
  {
   "cell_type": "code",
   "execution_count": 11,
   "id": "3f51a1bd",
   "metadata": {
    "execution": {
     "iopub.execute_input": "2024-09-17T10:21:29.541993Z",
     "iopub.status.busy": "2024-09-17T10:21:29.541533Z",
     "iopub.status.idle": "2024-09-17T10:21:29.559726Z",
     "shell.execute_reply": "2024-09-17T10:21:29.558513Z"
    },
    "papermill": {
     "duration": 0.030667,
     "end_time": "2024-09-17T10:21:29.562327",
     "exception": false,
     "start_time": "2024-09-17T10:21:29.531660",
     "status": "completed"
    },
    "tags": []
   },
   "outputs": [
    {
     "data": {
      "text/html": [
       "<div>\n",
       "<style scoped>\n",
       "    .dataframe tbody tr th:only-of-type {\n",
       "        vertical-align: middle;\n",
       "    }\n",
       "\n",
       "    .dataframe tbody tr th {\n",
       "        vertical-align: top;\n",
       "    }\n",
       "\n",
       "    .dataframe thead th {\n",
       "        text-align: right;\n",
       "    }\n",
       "</style>\n",
       "<table border=\"1\" class=\"dataframe\">\n",
       "  <thead>\n",
       "    <tr style=\"text-align: right;\">\n",
       "      <th></th>\n",
       "      <th>Sl. No</th>\n",
       "      <th>Patient File No.</th>\n",
       "      <th>PCOS (Y/N)</th>\n",
       "      <th>I   beta-HCG(mIU/mL)</th>\n",
       "      <th>II    beta-HCG(mIU/mL)</th>\n",
       "      <th>AMH(ng/mL)</th>\n",
       "    </tr>\n",
       "  </thead>\n",
       "  <tbody>\n",
       "    <tr>\n",
       "      <th>0</th>\n",
       "      <td>1</td>\n",
       "      <td>10001</td>\n",
       "      <td>0</td>\n",
       "      <td>1.99</td>\n",
       "      <td>1.99</td>\n",
       "      <td>2.07</td>\n",
       "    </tr>\n",
       "    <tr>\n",
       "      <th>1</th>\n",
       "      <td>2</td>\n",
       "      <td>10002</td>\n",
       "      <td>0</td>\n",
       "      <td>60.80</td>\n",
       "      <td>1.99</td>\n",
       "      <td>1.53</td>\n",
       "    </tr>\n",
       "    <tr>\n",
       "      <th>2</th>\n",
       "      <td>3</td>\n",
       "      <td>10003</td>\n",
       "      <td>1</td>\n",
       "      <td>494.08</td>\n",
       "      <td>494.08</td>\n",
       "      <td>6.63</td>\n",
       "    </tr>\n",
       "    <tr>\n",
       "      <th>3</th>\n",
       "      <td>4</td>\n",
       "      <td>10004</td>\n",
       "      <td>0</td>\n",
       "      <td>1.99</td>\n",
       "      <td>1.99</td>\n",
       "      <td>1.22</td>\n",
       "    </tr>\n",
       "    <tr>\n",
       "      <th>4</th>\n",
       "      <td>5</td>\n",
       "      <td>10005</td>\n",
       "      <td>0</td>\n",
       "      <td>801.45</td>\n",
       "      <td>801.45</td>\n",
       "      <td>2.26</td>\n",
       "    </tr>\n",
       "  </tbody>\n",
       "</table>\n",
       "</div>"
      ],
      "text/plain": [
       "   Sl. No  Patient File No.  PCOS (Y/N)    I   beta-HCG(mIU/mL)  \\\n",
       "0       1             10001           0                    1.99   \n",
       "1       2             10002           0                   60.80   \n",
       "2       3             10003           1                  494.08   \n",
       "3       4             10004           0                    1.99   \n",
       "4       5             10005           0                  801.45   \n",
       "\n",
       "   II    beta-HCG(mIU/mL) AMH(ng/mL)  \n",
       "0                    1.99       2.07  \n",
       "1                    1.99       1.53  \n",
       "2                  494.08       6.63  \n",
       "3                    1.99       1.22  \n",
       "4                  801.45       2.26  "
      ]
     },
     "execution_count": 11,
     "metadata": {},
     "output_type": "execute_result"
    }
   ],
   "source": [
    "data.duplicated()\n",
    "data = data.drop_duplicates()\n",
    "data.head()"
   ]
  },
  {
   "cell_type": "code",
   "execution_count": 12,
   "id": "032e0f25",
   "metadata": {
    "execution": {
     "iopub.execute_input": "2024-09-17T10:21:29.582084Z",
     "iopub.status.busy": "2024-09-17T10:21:29.581576Z",
     "iopub.status.idle": "2024-09-17T10:21:29.597993Z",
     "shell.execute_reply": "2024-09-17T10:21:29.596759Z"
    },
    "papermill": {
     "duration": 0.029227,
     "end_time": "2024-09-17T10:21:29.600492",
     "exception": false,
     "start_time": "2024-09-17T10:21:29.571265",
     "status": "completed"
    },
    "tags": []
   },
   "outputs": [
    {
     "data": {
      "text/html": [
       "<div>\n",
       "<style scoped>\n",
       "    .dataframe tbody tr th:only-of-type {\n",
       "        vertical-align: middle;\n",
       "    }\n",
       "\n",
       "    .dataframe tbody tr th {\n",
       "        vertical-align: top;\n",
       "    }\n",
       "\n",
       "    .dataframe thead th {\n",
       "        text-align: right;\n",
       "    }\n",
       "</style>\n",
       "<table border=\"1\" class=\"dataframe\">\n",
       "  <thead>\n",
       "    <tr style=\"text-align: right;\">\n",
       "      <th></th>\n",
       "      <th>Sl. No</th>\n",
       "      <th>Patient File No.</th>\n",
       "      <th>PCOS (Y/N)</th>\n",
       "      <th>I   beta-HCG(mIU/mL)</th>\n",
       "      <th>II    beta-HCG(mIU/mL)</th>\n",
       "      <th>AMH(ng/mL)</th>\n",
       "    </tr>\n",
       "  </thead>\n",
       "  <tbody>\n",
       "    <tr>\n",
       "      <th>0</th>\n",
       "      <td>1</td>\n",
       "      <td>10001</td>\n",
       "      <td>0</td>\n",
       "      <td>1.99</td>\n",
       "      <td>1.99</td>\n",
       "      <td>2.07</td>\n",
       "    </tr>\n",
       "    <tr>\n",
       "      <th>1</th>\n",
       "      <td>2</td>\n",
       "      <td>10002</td>\n",
       "      <td>0</td>\n",
       "      <td>60.80</td>\n",
       "      <td>1.99</td>\n",
       "      <td>1.53</td>\n",
       "    </tr>\n",
       "    <tr>\n",
       "      <th>2</th>\n",
       "      <td>3</td>\n",
       "      <td>10003</td>\n",
       "      <td>1</td>\n",
       "      <td>494.08</td>\n",
       "      <td>494.08</td>\n",
       "      <td>6.63</td>\n",
       "    </tr>\n",
       "    <tr>\n",
       "      <th>3</th>\n",
       "      <td>4</td>\n",
       "      <td>10004</td>\n",
       "      <td>0</td>\n",
       "      <td>1.99</td>\n",
       "      <td>1.99</td>\n",
       "      <td>1.22</td>\n",
       "    </tr>\n",
       "    <tr>\n",
       "      <th>4</th>\n",
       "      <td>5</td>\n",
       "      <td>10005</td>\n",
       "      <td>0</td>\n",
       "      <td>801.45</td>\n",
       "      <td>801.45</td>\n",
       "      <td>2.26</td>\n",
       "    </tr>\n",
       "    <tr>\n",
       "      <th>5</th>\n",
       "      <td>6</td>\n",
       "      <td>10006</td>\n",
       "      <td>0</td>\n",
       "      <td>237.97</td>\n",
       "      <td>1.99</td>\n",
       "      <td>6.74</td>\n",
       "    </tr>\n",
       "    <tr>\n",
       "      <th>6</th>\n",
       "      <td>7</td>\n",
       "      <td>10007</td>\n",
       "      <td>0</td>\n",
       "      <td>1.99</td>\n",
       "      <td>1.99</td>\n",
       "      <td>3.05</td>\n",
       "    </tr>\n",
       "    <tr>\n",
       "      <th>7</th>\n",
       "      <td>8</td>\n",
       "      <td>10008</td>\n",
       "      <td>0</td>\n",
       "      <td>100.51</td>\n",
       "      <td>100.51</td>\n",
       "      <td>1.54</td>\n",
       "    </tr>\n",
       "    <tr>\n",
       "      <th>8</th>\n",
       "      <td>9</td>\n",
       "      <td>10009</td>\n",
       "      <td>0</td>\n",
       "      <td>1.99</td>\n",
       "      <td>1.99</td>\n",
       "      <td>1</td>\n",
       "    </tr>\n",
       "    <tr>\n",
       "      <th>9</th>\n",
       "      <td>10</td>\n",
       "      <td>10010</td>\n",
       "      <td>0</td>\n",
       "      <td>1.99</td>\n",
       "      <td>1.99</td>\n",
       "      <td>1.61</td>\n",
       "    </tr>\n",
       "  </tbody>\n",
       "</table>\n",
       "</div>"
      ],
      "text/plain": [
       "   Sl. No  Patient File No.  PCOS (Y/N)    I   beta-HCG(mIU/mL)  \\\n",
       "0       1             10001           0                    1.99   \n",
       "1       2             10002           0                   60.80   \n",
       "2       3             10003           1                  494.08   \n",
       "3       4             10004           0                    1.99   \n",
       "4       5             10005           0                  801.45   \n",
       "5       6             10006           0                  237.97   \n",
       "6       7             10007           0                    1.99   \n",
       "7       8             10008           0                  100.51   \n",
       "8       9             10009           0                    1.99   \n",
       "9      10             10010           0                    1.99   \n",
       "\n",
       "   II    beta-HCG(mIU/mL) AMH(ng/mL)  \n",
       "0                    1.99       2.07  \n",
       "1                    1.99       1.53  \n",
       "2                  494.08       6.63  \n",
       "3                    1.99       1.22  \n",
       "4                  801.45       2.26  \n",
       "5                    1.99       6.74  \n",
       "6                    1.99       3.05  \n",
       "7                  100.51       1.54  \n",
       "8                    1.99          1  \n",
       "9                    1.99       1.61  "
      ]
     },
     "execution_count": 12,
     "metadata": {},
     "output_type": "execute_result"
    }
   ],
   "source": [
    "data.head(10)\n"
   ]
  },
  {
   "cell_type": "code",
   "execution_count": 13,
   "id": "9ee1a253",
   "metadata": {
    "execution": {
     "iopub.execute_input": "2024-09-17T10:21:29.620991Z",
     "iopub.status.busy": "2024-09-17T10:21:29.620411Z",
     "iopub.status.idle": "2024-09-17T10:21:29.636598Z",
     "shell.execute_reply": "2024-09-17T10:21:29.635489Z"
    },
    "papermill": {
     "duration": 0.029584,
     "end_time": "2024-09-17T10:21:29.639393",
     "exception": false,
     "start_time": "2024-09-17T10:21:29.609809",
     "status": "completed"
    },
    "tags": []
   },
   "outputs": [
    {
     "data": {
      "text/plain": [
       "<bound method DataFrame.drop_duplicates of      Sl. No  Patient File No.  PCOS (Y/N)    I   beta-HCG(mIU/mL)  \\\n",
       "0         1             10001           0                    1.99   \n",
       "1         2             10002           0                   60.80   \n",
       "2         3             10003           1                  494.08   \n",
       "3         4             10004           0                    1.99   \n",
       "4         5             10005           0                  801.45   \n",
       "..      ...               ...         ...                     ...   \n",
       "536     537             10537           0                    1.99   \n",
       "537     538             10538           0                   80.13   \n",
       "538     539             10539           0                    1.99   \n",
       "539     540             10540           0                  292.92   \n",
       "540     541             10541           1                    1.99   \n",
       "\n",
       "     II    beta-HCG(mIU/mL) AMH(ng/mL)  \n",
       "0                      1.99       2.07  \n",
       "1                      1.99       1.53  \n",
       "2                    494.08       6.63  \n",
       "3                      1.99       1.22  \n",
       "4                    801.45       2.26  \n",
       "..                      ...        ...  \n",
       "536                    1.99        1.7  \n",
       "537                    1.99        5.6  \n",
       "538                    1.99        3.7  \n",
       "539                    1.99        5.2  \n",
       "540                    1.99         20  \n",
       "\n",
       "[541 rows x 6 columns]>"
      ]
     },
     "execution_count": 13,
     "metadata": {},
     "output_type": "execute_result"
    }
   ],
   "source": [
    "data.drop_duplicates"
   ]
  },
  {
   "cell_type": "code",
   "execution_count": 14,
   "id": "836325c3",
   "metadata": {
    "execution": {
     "iopub.execute_input": "2024-09-17T10:21:29.660742Z",
     "iopub.status.busy": "2024-09-17T10:21:29.659672Z",
     "iopub.status.idle": "2024-09-17T10:21:29.667147Z",
     "shell.execute_reply": "2024-09-17T10:21:29.666101Z"
    },
    "papermill": {
     "duration": 0.020952,
     "end_time": "2024-09-17T10:21:29.669638",
     "exception": false,
     "start_time": "2024-09-17T10:21:29.648686",
     "status": "completed"
    },
    "tags": []
   },
   "outputs": [
    {
     "data": {
      "text/plain": [
       "(541, 6)"
      ]
     },
     "execution_count": 14,
     "metadata": {},
     "output_type": "execute_result"
    }
   ],
   "source": [
    "data.shape"
   ]
  },
  {
   "cell_type": "code",
   "execution_count": 15,
   "id": "5bac66a0",
   "metadata": {
    "execution": {
     "iopub.execute_input": "2024-09-17T10:21:29.690496Z",
     "iopub.status.busy": "2024-09-17T10:21:29.690028Z",
     "iopub.status.idle": "2024-09-17T10:21:29.706118Z",
     "shell.execute_reply": "2024-09-17T10:21:29.705107Z"
    },
    "papermill": {
     "duration": 0.029423,
     "end_time": "2024-09-17T10:21:29.708552",
     "exception": false,
     "start_time": "2024-09-17T10:21:29.679129",
     "status": "completed"
    },
    "tags": []
   },
   "outputs": [
    {
     "data": {
      "text/html": [
       "<div>\n",
       "<style scoped>\n",
       "    .dataframe tbody tr th:only-of-type {\n",
       "        vertical-align: middle;\n",
       "    }\n",
       "\n",
       "    .dataframe tbody tr th {\n",
       "        vertical-align: top;\n",
       "    }\n",
       "\n",
       "    .dataframe thead th {\n",
       "        text-align: right;\n",
       "    }\n",
       "</style>\n",
       "<table border=\"1\" class=\"dataframe\">\n",
       "  <thead>\n",
       "    <tr style=\"text-align: right;\">\n",
       "      <th></th>\n",
       "      <th>Sl. No</th>\n",
       "      <th>Patient File No.</th>\n",
       "      <th>PCOS (Y/N)</th>\n",
       "      <th>I   beta-HCG(mIU/mL)</th>\n",
       "      <th>II    beta-HCG(mIU/mL)</th>\n",
       "      <th>AMH(ng/mL)</th>\n",
       "    </tr>\n",
       "  </thead>\n",
       "  <tbody>\n",
       "    <tr>\n",
       "      <th>0</th>\n",
       "      <td>1</td>\n",
       "      <td>10001</td>\n",
       "      <td>0</td>\n",
       "      <td>1.99</td>\n",
       "      <td>1.99</td>\n",
       "      <td>2.07</td>\n",
       "    </tr>\n",
       "    <tr>\n",
       "      <th>1</th>\n",
       "      <td>2</td>\n",
       "      <td>10002</td>\n",
       "      <td>0</td>\n",
       "      <td>60.80</td>\n",
       "      <td>1.99</td>\n",
       "      <td>1.53</td>\n",
       "    </tr>\n",
       "    <tr>\n",
       "      <th>2</th>\n",
       "      <td>3</td>\n",
       "      <td>10003</td>\n",
       "      <td>1</td>\n",
       "      <td>494.08</td>\n",
       "      <td>494.08</td>\n",
       "      <td>6.63</td>\n",
       "    </tr>\n",
       "    <tr>\n",
       "      <th>3</th>\n",
       "      <td>4</td>\n",
       "      <td>10004</td>\n",
       "      <td>0</td>\n",
       "      <td>1.99</td>\n",
       "      <td>1.99</td>\n",
       "      <td>1.22</td>\n",
       "    </tr>\n",
       "    <tr>\n",
       "      <th>4</th>\n",
       "      <td>5</td>\n",
       "      <td>10005</td>\n",
       "      <td>0</td>\n",
       "      <td>801.45</td>\n",
       "      <td>801.45</td>\n",
       "      <td>2.26</td>\n",
       "    </tr>\n",
       "    <tr>\n",
       "      <th>5</th>\n",
       "      <td>6</td>\n",
       "      <td>10006</td>\n",
       "      <td>0</td>\n",
       "      <td>237.97</td>\n",
       "      <td>1.99</td>\n",
       "      <td>6.74</td>\n",
       "    </tr>\n",
       "    <tr>\n",
       "      <th>6</th>\n",
       "      <td>7</td>\n",
       "      <td>10007</td>\n",
       "      <td>0</td>\n",
       "      <td>1.99</td>\n",
       "      <td>1.99</td>\n",
       "      <td>3.05</td>\n",
       "    </tr>\n",
       "    <tr>\n",
       "      <th>7</th>\n",
       "      <td>8</td>\n",
       "      <td>10008</td>\n",
       "      <td>0</td>\n",
       "      <td>100.51</td>\n",
       "      <td>100.51</td>\n",
       "      <td>1.54</td>\n",
       "    </tr>\n",
       "    <tr>\n",
       "      <th>8</th>\n",
       "      <td>9</td>\n",
       "      <td>10009</td>\n",
       "      <td>0</td>\n",
       "      <td>1.99</td>\n",
       "      <td>1.99</td>\n",
       "      <td>1</td>\n",
       "    </tr>\n",
       "    <tr>\n",
       "      <th>9</th>\n",
       "      <td>10</td>\n",
       "      <td>10010</td>\n",
       "      <td>0</td>\n",
       "      <td>1.99</td>\n",
       "      <td>1.99</td>\n",
       "      <td>1.61</td>\n",
       "    </tr>\n",
       "  </tbody>\n",
       "</table>\n",
       "</div>"
      ],
      "text/plain": [
       "   Sl. No  Patient File No.  PCOS (Y/N)    I   beta-HCG(mIU/mL)  \\\n",
       "0       1             10001           0                    1.99   \n",
       "1       2             10002           0                   60.80   \n",
       "2       3             10003           1                  494.08   \n",
       "3       4             10004           0                    1.99   \n",
       "4       5             10005           0                  801.45   \n",
       "5       6             10006           0                  237.97   \n",
       "6       7             10007           0                    1.99   \n",
       "7       8             10008           0                  100.51   \n",
       "8       9             10009           0                    1.99   \n",
       "9      10             10010           0                    1.99   \n",
       "\n",
       "   II    beta-HCG(mIU/mL) AMH(ng/mL)  \n",
       "0                    1.99       2.07  \n",
       "1                    1.99       1.53  \n",
       "2                  494.08       6.63  \n",
       "3                    1.99       1.22  \n",
       "4                  801.45       2.26  \n",
       "5                    1.99       6.74  \n",
       "6                    1.99       3.05  \n",
       "7                  100.51       1.54  \n",
       "8                    1.99          1  \n",
       "9                    1.99       1.61  "
      ]
     },
     "execution_count": 15,
     "metadata": {},
     "output_type": "execute_result"
    }
   ],
   "source": [
    "data.head(10)"
   ]
  },
  {
   "cell_type": "code",
   "execution_count": 16,
   "id": "08e1a13f",
   "metadata": {
    "execution": {
     "iopub.execute_input": "2024-09-17T10:21:29.730606Z",
     "iopub.status.busy": "2024-09-17T10:21:29.730157Z",
     "iopub.status.idle": "2024-09-17T10:21:29.737289Z",
     "shell.execute_reply": "2024-09-17T10:21:29.736067Z"
    },
    "papermill": {
     "duration": 0.021182,
     "end_time": "2024-09-17T10:21:29.739705",
     "exception": false,
     "start_time": "2024-09-17T10:21:29.718523",
     "status": "completed"
    },
    "tags": []
   },
   "outputs": [],
   "source": [
    "data.drop(columns = ['Sl. No'], inplace = True )"
   ]
  },
  {
   "cell_type": "code",
   "execution_count": 17,
   "id": "116572f9",
   "metadata": {
    "execution": {
     "iopub.execute_input": "2024-09-17T10:21:29.761909Z",
     "iopub.status.busy": "2024-09-17T10:21:29.760935Z",
     "iopub.status.idle": "2024-09-17T10:21:29.776184Z",
     "shell.execute_reply": "2024-09-17T10:21:29.774789Z"
    },
    "papermill": {
     "duration": 0.029203,
     "end_time": "2024-09-17T10:21:29.778868",
     "exception": false,
     "start_time": "2024-09-17T10:21:29.749665",
     "status": "completed"
    },
    "tags": []
   },
   "outputs": [
    {
     "data": {
      "text/html": [
       "<div>\n",
       "<style scoped>\n",
       "    .dataframe tbody tr th:only-of-type {\n",
       "        vertical-align: middle;\n",
       "    }\n",
       "\n",
       "    .dataframe tbody tr th {\n",
       "        vertical-align: top;\n",
       "    }\n",
       "\n",
       "    .dataframe thead th {\n",
       "        text-align: right;\n",
       "    }\n",
       "</style>\n",
       "<table border=\"1\" class=\"dataframe\">\n",
       "  <thead>\n",
       "    <tr style=\"text-align: right;\">\n",
       "      <th></th>\n",
       "      <th>Patient File No.</th>\n",
       "      <th>PCOS (Y/N)</th>\n",
       "      <th>I   beta-HCG(mIU/mL)</th>\n",
       "      <th>II    beta-HCG(mIU/mL)</th>\n",
       "      <th>AMH(ng/mL)</th>\n",
       "    </tr>\n",
       "  </thead>\n",
       "  <tbody>\n",
       "    <tr>\n",
       "      <th>0</th>\n",
       "      <td>10001</td>\n",
       "      <td>0</td>\n",
       "      <td>1.99</td>\n",
       "      <td>1.99</td>\n",
       "      <td>2.07</td>\n",
       "    </tr>\n",
       "    <tr>\n",
       "      <th>1</th>\n",
       "      <td>10002</td>\n",
       "      <td>0</td>\n",
       "      <td>60.80</td>\n",
       "      <td>1.99</td>\n",
       "      <td>1.53</td>\n",
       "    </tr>\n",
       "    <tr>\n",
       "      <th>2</th>\n",
       "      <td>10003</td>\n",
       "      <td>1</td>\n",
       "      <td>494.08</td>\n",
       "      <td>494.08</td>\n",
       "      <td>6.63</td>\n",
       "    </tr>\n",
       "    <tr>\n",
       "      <th>3</th>\n",
       "      <td>10004</td>\n",
       "      <td>0</td>\n",
       "      <td>1.99</td>\n",
       "      <td>1.99</td>\n",
       "      <td>1.22</td>\n",
       "    </tr>\n",
       "    <tr>\n",
       "      <th>4</th>\n",
       "      <td>10005</td>\n",
       "      <td>0</td>\n",
       "      <td>801.45</td>\n",
       "      <td>801.45</td>\n",
       "      <td>2.26</td>\n",
       "    </tr>\n",
       "  </tbody>\n",
       "</table>\n",
       "</div>"
      ],
      "text/plain": [
       "   Patient File No.  PCOS (Y/N)    I   beta-HCG(mIU/mL)  \\\n",
       "0             10001           0                    1.99   \n",
       "1             10002           0                   60.80   \n",
       "2             10003           1                  494.08   \n",
       "3             10004           0                    1.99   \n",
       "4             10005           0                  801.45   \n",
       "\n",
       "   II    beta-HCG(mIU/mL) AMH(ng/mL)  \n",
       "0                    1.99       2.07  \n",
       "1                    1.99       1.53  \n",
       "2                  494.08       6.63  \n",
       "3                    1.99       1.22  \n",
       "4                  801.45       2.26  "
      ]
     },
     "execution_count": 17,
     "metadata": {},
     "output_type": "execute_result"
    }
   ],
   "source": [
    "data.head()"
   ]
  },
  {
   "cell_type": "code",
   "execution_count": 18,
   "id": "aedf4606",
   "metadata": {
    "execution": {
     "iopub.execute_input": "2024-09-17T10:21:29.801876Z",
     "iopub.status.busy": "2024-09-17T10:21:29.800922Z",
     "iopub.status.idle": "2024-09-17T10:21:29.806745Z",
     "shell.execute_reply": "2024-09-17T10:21:29.805500Z"
    },
    "papermill": {
     "duration": 0.020048,
     "end_time": "2024-09-17T10:21:29.809349",
     "exception": false,
     "start_time": "2024-09-17T10:21:29.789301",
     "status": "completed"
    },
    "tags": []
   },
   "outputs": [],
   "source": [
    "sns.set_style('darkgrid')"
   ]
  },
  {
   "cell_type": "code",
   "execution_count": 19,
   "id": "c8d93a63",
   "metadata": {
    "execution": {
     "iopub.execute_input": "2024-09-17T10:21:29.833509Z",
     "iopub.status.busy": "2024-09-17T10:21:29.832395Z",
     "iopub.status.idle": "2024-09-17T10:21:30.047513Z",
     "shell.execute_reply": "2024-09-17T10:21:30.046381Z"
    },
    "papermill": {
     "duration": 0.229972,
     "end_time": "2024-09-17T10:21:30.049974",
     "exception": false,
     "start_time": "2024-09-17T10:21:29.820002",
     "status": "completed"
    },
    "tags": []
   },
   "outputs": [
    {
     "data": {
      "text/plain": [
       "<Axes: ylabel='PCOS (Y/N)'>"
      ]
     },
     "execution_count": 19,
     "metadata": {},
     "output_type": "execute_result"
    },
    {
     "data": {
      "image/png": "[encoded data removed]",
      "text/plain": [
       "<Figure size 640x480 with 1 Axes>"
      ]
     },
     "metadata": {},
     "output_type": "display_data"
    }
   ],
   "source": [
    "sns.boxplot(data , y = 'PCOS (Y/N)')"
   ]
  },
  {
   "cell_type": "code",
   "execution_count": null,
   "id": "018a68c0",
   "metadata": {
    "papermill": {
     "duration": 0.01022,
     "end_time": "2024-09-17T10:21:30.071126",
     "exception": false,
     "start_time": "2024-09-17T10:21:30.060906",
     "status": "completed"
    },
    "tags": []
   },
   "outputs": [],
   "source": []
  }
 ],
 "metadata": {
  "kaggle": {
   "accelerator": "none",
   "dataSources": [
    {
     "datasetId": 5702361,
     "sourceId": 9395582,
     "sourceType": "datasetVersion"
    }
   ],
   "dockerImageVersionId": 30761,
   "isGpuEnabled": false,
   "isInternetEnabled": false,
   "language": "python",
   "sourceType": "notebook"
  },
  "kernelspec": {
   "display_name": "Python 3",
   "language": "python",
   "name": "python3"
  },
  "language_info": {
   "codemirror_mode": {
    "name": "ipython",
    "version": 3
   },
   "file_extension": ".py",
   "mimetype": "text/x-python",
   "name": "python",
   "nbconvert_exporter": "python",
   "pygments_lexer": "ipython3",
   "version": "3.10.14"
  },
  "papermill": {
   "default_parameters": {},
   "duration": 23.105874,
   "end_time": "2024-09-17T10:21:31.707667",
   "environment_variables": {},
   "exception": null,
   "input_path": "__notebook__.ipynb",
   "output_path": "__notebook__.ipynb",
   "parameters": {},
   "start_time": "2024-09-17T10:21:08.601793",
   "version": "2.6.0"
  }
 },
 "nbformat": 4,
 "nbformat_minor": 5
}
